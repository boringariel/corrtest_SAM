{
 "cells": [
  {
   "cell_type": "code",
   "execution_count": 1,
   "metadata": {},
   "outputs": [
    {
     "name": "stderr",
     "output_type": "stream",
     "text": [
      "Loading required package: lattice\n",
      "Loading required package: survival\n",
      "Loading required package: Formula\n",
      "Loading required package: ggplot2\n",
      "\n",
      "Attaching package: ‘Hmisc’\n",
      "\n",
      "The following objects are masked from ‘package:base’:\n",
      "\n",
      "    format.pval, round.POSIXt, trunc.POSIXt, units\n",
      "\n"
     ]
    }
   ],
   "source": [
    "#view 600*200 dataframe\n",
    "options(repr.matrix.max.rows=600, repr.matrix.max.cols=200)\n",
    "\n",
    "library(\"Hmisc\")\n",
    "\n",
    "\n",
    "#----------NA row remove function----------\n",
    "na_rm <- function(data, cols) {\n",
    "  mask <- complete.cases(data[cols, ])\n",
    "  return(data[mask, ])\n",
    "}\n",
    "#mRNA_f <- t(na_rm(t(mRNA_f)))\n",
    "#mRNA <- mRNA_f[1:nrow(mRNA_f)-1,]\n",
    "#----------NA row remove function----------"
   ]
  },
  {
   "cell_type": "markdown",
   "metadata": {},
   "source": [
    "---\n",
    "### data import: data.csv"
   ]
  },
  {
   "cell_type": "code",
   "execution_count": 2,
   "metadata": {},
   "outputs": [],
   "source": [
    "clinical1 <- read.csv(\"data.csv\", header = TRUE)\n",
    "clinical2 <- clinical1[, c(\"multifocality\", \"BRAF\", \"name\")]\n",
    "\n",
    "\n",
    "#name processing: TCGA.BJ.A0YZ.01A to TCGA.BJ.A0YZ.01\n",
    "clinical2$name <- substr(clinical1$name, 1, 15)\n",
    "\n",
    "\n",
    "# converting focality\n",
    "clinical2$multifocality <- as.character(clinical1$multifocality)\n",
    "clinical2$multifocality[clinical1$multifocality == \"multifocal\"] <- 1\n",
    "clinical2$multifocality[clinical1$multifocality == \"unifocal\"] <- 0\n",
    "clinical2$multifocality <- as.numeric(clinical2$multifocality)\n",
    "\n",
    "\n",
    "#separate BRAF_p/focality\n",
    "clinical_p <- clinical2[clinical2$BRAF %in% \"1\",]"
   ]
  },
  {
   "cell_type": "markdown",
   "metadata": {},
   "source": [
    "---\n",
    "### loading mRNA: mRNA.RData, selected_mRNA.csv"
   ]
  },
  {
   "cell_type": "code",
   "execution_count": 3,
   "metadata": {},
   "outputs": [
    {
     "name": "stderr",
     "output_type": "stream",
     "text": [
      "Warning message in bind_rows_(x, .id):\n",
      "“binding character and factor vector, coercing into character vector”"
     ]
    }
   ],
   "source": [
    "load(\"mRNA.RData\")\n",
    "\n",
    "\n",
    "#mRNA df name col 분리\n",
    "name <- rownames(mRNA)\n",
    "rownames(mRNA) <- NULL\n",
    "mRNA <- cbind(name,mRNA)\n",
    "\n",
    "\n",
    "#name 형식 변경\n",
    "#TCGA-DJ-A2Q5-01A-11R-A18B-13 type >>> TCGA.BJ.A0YZ.01 type(clinical2)\n",
    "mRNA$name <- gsub(\"-\", \".\", mRNA$name)\n",
    "mRNA$name <- substr(mRNA$name, 1, 15)\n",
    "\n",
    "\n",
    "selected_mRNA = read.csv(\"mRNA_selected.csv\")\n",
    "\n",
    "#mRNA - selected mRNA(1열 mRNA: 2열: 1) binding >>> NA col 생성\n",
    "mRNA_f <- dplyr::bind_rows(mRNA, selected_mRNA)\n",
    "\n",
    "\n",
    "#----------NA row remove function----------\n",
    "mRNA_f <- t(na_rm(t(mRNA_f)))\n",
    "mRNA <- mRNA_f[1:nrow(mRNA_f)-1,]\n",
    "#----------NA row remove function----------\n",
    "\n",
    "mrna_p <- merge(clinical_p, mRNA, by = \"name\")\n",
    "mrna_p <- mrna_p[4:ncol(mrna_p)]"
   ]
  },
  {
   "cell_type": "markdown",
   "metadata": {},
   "source": [
    "---\n",
    "### loading miRNA"
   ]
  },
  {
   "cell_type": "code",
   "execution_count": 4,
   "metadata": {},
   "outputs": [],
   "source": [
    "load(\"miRNA.RData\")\n",
    "\n",
    "\n",
    "#miRNA df name col 분리\n",
    "name <- rownames(miRNA)\n",
    "rownames(miRNA) <- NULL\n",
    "miRNA <- cbind(name,miRNA)\n",
    "\n",
    "\n",
    "#name 형식 변경\n",
    "#TCGA-DJ-A2Q5-01A-11R-A18B-13 type >>> TCGA.BJ.A0YZ.01 type(clinical2)\n",
    "miRNA$name <- gsub(\"-\", \".\", miRNA$name)\n",
    "miRNA$name <- substr(miRNA$name, 1, 15)\n",
    "\n",
    "\n",
    "count.zero <- sapply(1:ncol(miRNA), function(i) sum(miRNA[, i] == 0)) \n",
    "selected.mirna <- names(miRNA)[which(count.zero/nrow(miRNA) < 0.1)]\n",
    "del.mirna <- setdiff(names(miRNA), selected.mirna)\n",
    "\n",
    "mirna <- miRNA[, selected.mirna]\n",
    "#mirna[mirna == 0] <- NA\n",
    "                     \n",
    "p_miRNA <- merge(clinical_p, mirna, by.x = \"name\", by.y = \"name\", all.x = TRUE)\n",
    "\n",
    "mirna_p <- p_miRNA[4:ncol(p_miRNA)]"
   ]
  },
  {
   "cell_type": "markdown",
   "metadata": {},
   "source": [
    "---\n",
    "### corrtest"
   ]
  },
  {
   "cell_type": "code",
   "execution_count": 5,
   "metadata": {},
   "outputs": [],
   "source": [
    "corr_rna <- data.frame(mrna_p, mirna_p)\n",
    "\n",
    "result_rcorr <- rcorr(as.matrix(corr_rna), type = \"spearman\")\n",
    "\n",
    "result_rcorr$r <- result_rcorr$r[1:ncol(mrna_p),(ncol(result_rcorr$r)-ncol(mirna_p)+1):ncol(result_rcorr$r)]\n",
    "result_rcorr$P <- result_rcorr$P[1:ncol(mrna_p),(ncol(result_rcorr$P)-ncol(mirna_p)+1):ncol(result_rcorr$P)]"
   ]
  },
  {
   "cell_type": "markdown",
   "metadata": {},
   "source": [
    "---\n",
    "### data selection by pathway"
   ]
  },
  {
   "cell_type": "code",
   "execution_count": 6,
   "metadata": {},
   "outputs": [],
   "source": [
    "wnt_pluri <- c('AXIN2','CCND2','FZD3','FZD4','CD44')\n",
    "neural <- c('AXIN2','ETS1','FZD3','HEY2','TCF4')\n",
    "O_linked <- c('ADAMTS9','ADAMTSL2','B4GALT6','THSD7B') #GALNT16 missing\n",
    "axon <- c('BMPR2','BOC','FZD3','PIK3R3','SLIT3','TRPC4')\n",
    "TCF <- c('AXIN2','FZD4','HIST1H2AC','HIST1H4H','RNF146','TCF4')\n",
    "sig_pluri <- c('AXIN2','BMPR2','FZD3','FZD4','PIK3R3')\n",
    "ectoderm <- c('BCAS3','BOC','ELOVL2','FZD4','PODXL')\n",
    "phosphoD <- c('AGPAT5','PDGFD','PIK3R3','RALB','RAPGEF4')\n",
    "rap1 <- c('ARAP3','PDGFD','PIK3R3','RALB','RAPGEF4','TEK')\n",
    "breast <- c('AXIN2','FZD3','FZD4','HEY2','PIK3R3')\n",
    "gastric <- c('ABCB1','AXIN2','FZD3','FZD4','PIK3R3')\n",
    "sig_wnt <- c('AXIN2','FZD3','FZD4','HIST1H2AC','HIST1H4H','RNF146','TCF4')\n",
    "hippo <- c('AXIN2','BMPR2','CCND2','FZD3','FZD4')"
   ]
  },
  {
   "cell_type": "code",
   "execution_count": 7,
   "metadata": {},
   "outputs": [],
   "source": [
    "result_t <- t(result_rcorr$r)\n",
    "result_t_pval <- t(result_rcorr$P)\n",
    "\n",
    "target <- hippo\n",
    "\n",
    "result_path <- t(result_t[, target])\n",
    "result_path_pval <- t(result_t_pval[, target])"
   ]
  },
  {
   "cell_type": "code",
   "execution_count": 8,
   "metadata": {},
   "outputs": [],
   "source": [
    "#corr_value check (>-0.1 = NA)\n",
    "del <- \"\"\n",
    "for(i in 1:ncol(result_path)-1){\n",
    "    if(max(result_path[,i+1])>(-0.1)){\n",
    "        del <- c(del, NA)\n",
    "    }else{\n",
    "        del <- c(del, 1)\n",
    "    }\n",
    "}\n",
    "\n",
    "\n",
    "#making NA col\n",
    "del <- del[2:length(del)]\n",
    "del <- t(data.frame(del))\n",
    "\n",
    "\n",
    "#NA col : result binding\n",
    "result_path <- rbind(result_path, del)\n",
    "result_path_pval <- rbind(result_path_pval, del)\n",
    "\n",
    "\n",
    "#----------NA row remove function----------\n",
    "result_path <- t(na_rm(t(result_path)))\n",
    "result_path_pval <- t(na_rm(t(result_path)))\n",
    "result_path <- result_path[1:nrow(result_path)-1,]\n",
    "result_path_pval <- result_path_pval[1:nrow(result_path_pval)-1,]\n",
    "#----------NA row remove function----------\n",
    "\n",
    "\n",
    "#data output\n",
    "write.csv(result_path, \"result_path.csv\")\n",
    "write.csv(result_path_pval, \"result_path_pval.csv\")"
   ]
  },
  {
   "cell_type": "code",
   "execution_count": null,
   "metadata": {},
   "outputs": [],
   "source": []
  }
 ],
 "metadata": {
  "kernelspec": {
   "display_name": "R",
   "language": "R",
   "name": "ir"
  },
  "language_info": {
   "codemirror_mode": "r",
   "file_extension": ".r",
   "mimetype": "text/x-r-source",
   "name": "R",
   "pygments_lexer": "r",
   "version": "3.4.3"
  }
 },
 "nbformat": 4,
 "nbformat_minor": 2
}
