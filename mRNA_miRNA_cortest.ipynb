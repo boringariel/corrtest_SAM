{
 "cells": [
  {
   "cell_type": "code",
   "execution_count": 1,
   "metadata": {},
   "outputs": [
    {
     "name": "stderr",
     "output_type": "stream",
     "text": [
      "corrplot 0.84 loaded\n",
      "Loading required package: lattice\n",
      "Loading required package: survival\n",
      "Loading required package: Formula\n",
      "Loading required package: ggplot2\n",
      "\n",
      "Attaching package: ‘Hmisc’\n",
      "\n",
      "The following objects are masked from ‘package:base’:\n",
      "\n",
      "    format.pval, round.POSIXt, trunc.POSIXt, units\n",
      "\n"
     ]
    }
   ],
   "source": [
    "#view 600*200 dataframe\n",
    "options(repr.matrix.max.rows=600, repr.matrix.max.cols=200)\n",
    "\n",
    "library(corrplot)\n",
    "library(\"Hmisc\")"
   ]
  },
  {
   "cell_type": "markdown",
   "metadata": {},
   "source": [
    "---\n",
    "### data import: data.csv"
   ]
  },
  {
   "cell_type": "code",
   "execution_count": 2,
   "metadata": {},
   "outputs": [],
   "source": [
    "clinical1 <- read.csv(\"data.csv\", header = TRUE)\n",
    "clinical2 <- clinical1[, c(\"multifocality\", \"BRAF\", \"name\")]\n",
    "\n",
    "\n",
    "#name processing: TCGA.BJ.A0YZ.01A to TCGA.BJ.A0YZ.01\n",
    "clinical2$name <- substr(clinical1$name, 1, 15)\n",
    "\n",
    "\n",
    "# converting focality\n",
    "clinical2$multifocality <- as.character(clinical1$multifocality)\n",
    "clinical2$multifocality[clinical1$multifocality == \"multifocal\"] <- 1\n",
    "clinical2$multifocality[clinical1$multifocality == \"unifocal\"] <- 0\n",
    "clinical2$multifocality <- as.numeric(clinical2$multifocality)\n",
    "\n",
    "\n",
    "#separate BRAF_p/focality\n",
    "clinical_p <- clinical2[clinical2$BRAF %in% \"1\",]\n",
    "\n",
    "clinical_p_uni <- clinical_p[clinical_p$multifocality %in% \"0\",]\n",
    "clinical_p_multi <- clinical_p[clinical_p$multifocality %in% \"1\",]"
   ]
  },
  {
   "cell_type": "markdown",
   "metadata": {},
   "source": [
    "---\n",
    "### loading mRNA: mRNA.RData, selected_mRNA.csv"
   ]
  },
  {
   "cell_type": "code",
   "execution_count": 4,
   "metadata": {},
   "outputs": [],
   "source": [
    "load(\"mRNA.RData\")\n",
    "\n",
    "\n",
    "#mRNA df name col 분리\n",
    "name <- rownames(mRNA)\n",
    "rownames(mRNA) <- NULL\n",
    "mRNA <- cbind(name,mRNA)\n",
    "\n",
    "\n",
    "#mRNA name 형식 변경\n",
    "#TCGA-DJ-A2Q5-01A-11R-A18B-13 type >>> TCGA.BJ.A0YZ.01 type(clinical2)\n",
    "\n",
    "mRNA$name <- gsub(\"-\", \".\", mRNA$name)\n",
    "mRNA$name <- substr(mRNA$name, 1, 15)"
   ]
  },
  {
   "cell_type": "code",
   "execution_count": 5,
   "metadata": {},
   "outputs": [
    {
     "name": "stderr",
     "output_type": "stream",
     "text": [
      "Warning message in bind_rows_(x, .id):\n",
      "“binding character and factor vector, coercing into character vector”"
     ]
    }
   ],
   "source": [
    "selected_mRNA = read.csv(\"mRNA_selected.csv\")\n",
    "\n",
    "#mRNA - selected mRNA(1열 mRNA: 2열: 1) binding\n",
    "mRNA_f <- dplyr::bind_rows(mRNA, selected_mRNA)"
   ]
  },
  {
   "cell_type": "code",
   "execution_count": 16,
   "metadata": {},
   "outputs": [],
   "source": [
    "for(i in 1:ncol(mRNA_f)-1){\n",
    "    if(is.na(mRNA_f[502,i+1])==TRUE){\n",
    "        print(1)\n",
    "        mRNA_f <- mRNA_f[,-(i+1)]\n",
    "    }\n",
    "}"
   ]
  },
  {
   "cell_type": "code",
   "execution_count": 19,
   "metadata": {},
   "outputs": [],
   "source": [
    "mRNA <- mRNA_f[1:501,1:(ncol(mRNA_f)-13)]\n",
    "\n",
    "mrna_p_uni <- merge(clinical_p_uni, mRNA, by = \"name\")\n",
    "mrna_p_multi <- merge(clinical_p_multi, mRNA, by = \"name\")\n",
    "\n",
    "mrna_p_uni <- mrna_p_uni[4:ncol(mrna_p_uni)]\n",
    "mrna_p_multi <- mrna_p_multi[4:ncol(mrna_p_multi)]"
   ]
  },
  {
   "cell_type": "markdown",
   "metadata": {},
   "source": [
    "---\n",
    "### mRNA 정규성 검정\n",
    "* p-value < 0.05 이므로 정규분포를 따르지 않는다. 따라서, spearman 상관분석을 이용함\n",
    "* 또한, 이상치가 존재해 (Q-Q plot을 근거로 함) 이상치에 민감한 pearson 상관분석을 이용하지 않는다"
   ]
  },
  {
   "cell_type": "code",
   "execution_count": null,
   "metadata": {
    "scrolled": true
   },
   "outputs": [],
   "source": [
    "shapiro.test(colMeans(mrna_p_uni, na.rm = TRUE))"
   ]
  },
  {
   "cell_type": "code",
   "execution_count": null,
   "metadata": {},
   "outputs": [],
   "source": [
    "qqnorm(colMeans(mrna_p_uni, na.rm = TRUE))\n",
    "qqline(colMeans(mrna_p_uni, na.rm = TRUE), col=2)"
   ]
  },
  {
   "cell_type": "code",
   "execution_count": null,
   "metadata": {
    "scrolled": true
   },
   "outputs": [],
   "source": [
    "shapiro.test(colMeans(mrna_p_multi, na.rm = TRUE))"
   ]
  },
  {
   "cell_type": "code",
   "execution_count": null,
   "metadata": {},
   "outputs": [],
   "source": [
    "qqnorm(colMeans(mrna_p_multi, na.rm = TRUE))\n",
    "qqline(colMeans(mrna_p_multi, na.rm = TRUE), col=2)"
   ]
  },
  {
   "cell_type": "markdown",
   "metadata": {},
   "source": [
    "---\n",
    "### loading miRNA"
   ]
  },
  {
   "cell_type": "code",
   "execution_count": 22,
   "metadata": {},
   "outputs": [],
   "source": [
    "load(\"miRNA.RData\")\n",
    "\n",
    "\n",
    "#miRNA df name col 분리\n",
    "\n",
    "name <- rownames(miRNA)\n",
    "rownames(miRNA) <- NULL\n",
    "miRNA <- cbind(name,miRNA)\n",
    "\n",
    "\n",
    "#miRNA name 형식 변경\n",
    "#TCGA-DJ-A2Q5-01A-11R-A18B-13 type >>> TCGA.BJ.A0YZ.01 type(clinical2)\n",
    "\n",
    "miRNA$name <- gsub(\"-\", \".\", miRNA$name)\n",
    "miRNA$name <- substr(miRNA$name, 1, 15)\n",
    "\n",
    "count.zero <- sapply(1:ncol(miRNA), function(i) sum(miRNA[, i] == 0)) \n",
    "selected.mirna <- names(miRNA)[which(count.zero/nrow(miRNA) < 0.1)]\n",
    "del.mirna <- setdiff(names(miRNA), selected.mirna)\n",
    "\n",
    "mirna <- miRNA[, selected.mirna]\n",
    "#mirna[mirna == 0] <- NA\n",
    "                     \n",
    "p_uni_miRNA <- merge(clinical_p_uni, mirna, by.x = \"name\", by.y = \"name\", all.x = TRUE)\n",
    "p_multi_miRNA <- merge(clinical_p_multi, mirna, by.x = \"name\", by.y = \"name\", all.x = TRUE)\n",
    "\n",
    "mirna_p_uni <- p_uni_miRNA[4:ncol(p_uni_miRNA)]\n",
    "mirna_p_multi <- p_multi_miRNA[4:ncol(p_multi_miRNA)]"
   ]
  },
  {
   "cell_type": "markdown",
   "metadata": {},
   "source": [
    "---\n",
    "### miRNA 정규성 검정\n",
    "* p-value < 0.05 이므로 정규분포를 따르지 않는다. 따라서, spearman 상관분석을 이용함\n",
    "* 또한, 이상치가 존재해 (Q-Q plot을 근거로 함) 이상치에 민감한 pearson 상관분석을 이용하지 않는다"
   ]
  },
  {
   "cell_type": "code",
   "execution_count": null,
   "metadata": {},
   "outputs": [],
   "source": [
    "shapiro.test(colMeans(mirna_p_uni, na.rm = TRUE))"
   ]
  },
  {
   "cell_type": "code",
   "execution_count": null,
   "metadata": {},
   "outputs": [],
   "source": [
    "qqnorm(colMeans(mirna_p_uni, na.rm = TRUE))\n",
    "qqline(colMeans(mirna_p_uni, na.rm = TRUE), col=2)"
   ]
  },
  {
   "cell_type": "code",
   "execution_count": null,
   "metadata": {
    "scrolled": true
   },
   "outputs": [],
   "source": [
    "shapiro.test(colMeans(mirna_p_multi, na.rm = TRUE))"
   ]
  },
  {
   "cell_type": "code",
   "execution_count": null,
   "metadata": {},
   "outputs": [],
   "source": [
    "qqnorm(colMeans(mrna_p_multi, na.rm = TRUE))\n",
    "qqline(colMeans(mrna_p_multi, na.rm = TRUE), col=2)"
   ]
  },
  {
   "cell_type": "markdown",
   "metadata": {},
   "source": [
    "---\n",
    "### cortest"
   ]
  },
  {
   "cell_type": "code",
   "execution_count": 41,
   "metadata": {},
   "outputs": [],
   "source": [
    "run <- readline(\"type? (u/m): \")\n",
    "\n",
    "if (run == \"u\"){\n",
    "    corr_rna <- data.frame(mrna_p_uni, mirna_p_uni)\n",
    "}else{\n",
    "    corr_rna <- data.frame(mrna_p_multi, mirna_p_multi)\n",
    "}\n",
    "\n",
    "result_rcorr <- rcorr(as.matrix(corr_rna), type = \"spearman\")\n",
    "\n",
    "result_rcorr$r <- result_rcorr$r[1:ncol(mrna_p_uni),(ncol(result_rcorr$r)-ncol(mirna_p_uni)+1):ncol(result_rcorr$r)]\n",
    "result_rcorr$P <- result_rcorr$P[1:ncol(mrna_p_uni),(ncol(result_rcorr$P)-ncol(mirna_p_uni)+1):ncol(result_rcorr$P)]"
   ]
  },
  {
   "cell_type": "code",
   "execution_count": 51,
   "metadata": {},
   "outputs": [
    {
     "ename": "ERROR",
     "evalue": "Error in 1:ncol(result_rcorr$r): 인자의 길이가 0입니다.\n",
     "execution_count": 51,
     "output_type": "error",
     "traceback": [
      "Error in 1:ncol(result_rcorr$r): 인자의 길이가 0입니다.\nTraceback:\n"
     ]
    }
   ],
   "source": [
    "#평균 -.2 미만의 correlation value를 가지는 데이터를 제외하고 cutoff\n",
    "\n",
    "for(i in 1:ncol(result_rcorr$r)-1){\n",
    "    if(mean(result_rcorr$r[,i+1])>(-0.2)){\n",
    "        print(1)\n",
    "        result_rcorr$r <- result_rcorr$r[,-(i+1)]\n",
    "        result_rcorr$P <- result_rcorr$P[,-(i+1)]\n",
    "    }\n",
    "}"
   ]
  },
  {
   "cell_type": "markdown",
   "metadata": {},
   "source": [
    "---\n",
    "### data selection by pathway"
   ]
  },
  {
   "cell_type": "code",
   "execution_count": null,
   "metadata": {},
   "outputs": [],
   "source": [
    "result_t <- t(result_rcorr$r)\n",
    "result_t_pval <- t(result_rcorr$P)\n",
    "\n",
    "target <- c('AXIN2', 'BMPR2', 'CCND2', 'FZD3', 'FZD4')\n",
    "\n",
    "result_path <- t(result_t[, target])\n",
    "result_path_pval <- t(result_t_pval[, target])"
   ]
  },
  {
   "cell_type": "code",
   "execution_count": null,
   "metadata": {},
   "outputs": [],
   "source": [
    "for(i in 1:ncol(result_path)-1){\n",
    "    if(max(result_path[,i+1])>=(0)){\n",
    "        print(1)\n",
    "        result_path <- result_path[,-(i+1)]\n",
    "        result_path_pval <- result_path_pval[,-(i+1)]\n",
    "    }\n",
    "}"
   ]
  },
  {
   "cell_type": "code",
   "execution_count": null,
   "metadata": {},
   "outputs": [],
   "source": [
    "write.csv(result_path, \"result_path.csv\")\n",
    "write.csv(result_path_pval, \"result_path_pval.csv\")"
   ]
  },
  {
   "cell_type": "markdown",
   "metadata": {},
   "source": [
    "---\n",
    "### data output & Etc."
   ]
  },
  {
   "cell_type": "code",
   "execution_count": 39,
   "metadata": {},
   "outputs": [],
   "source": [
    "#data output\n",
    "if (run == \"u\"){\n",
    "    write.csv(result_rcorr$r, \"corr_uni.csv\")\n",
    "    write.csv(result_rcorr$P, \"corr_uni_pval.csv\")\n",
    "}else{\n",
    "    write.csv(result_rcorr$r, \"corr_multi.csv\")\n",
    "    write.csv(result_rcorr$P, \"corr_multi_pval.csv\")\n",
    "}"
   ]
  },
  {
   "cell_type": "code",
   "execution_count": null,
   "metadata": {},
   "outputs": [],
   "source": [
    "#corrplot\n",
    "corrplot(result_path, method = \"shade\", tl.cex = 1, tl.col = \"black\", cl.cex = 1, cl.lim = c(-1, 0))"
   ]
  },
  {
   "cell_type": "code",
   "execution_count": null,
   "metadata": {},
   "outputs": [],
   "source": [
    "#img output\n",
    "png(file=\"corr.png\", res=300, width = 640, height = 2560)\n",
    "\n",
    "corrplot(result_rcorr$r, method = \"color\", tl.cex = 0.3, tl.col = \"black\", cl.cex = 0.5)\n",
    "\n",
    "dev.off()"
   ]
  }
 ],
 "metadata": {
  "kernelspec": {
   "display_name": "R",
   "language": "R",
   "name": "ir"
  },
  "language_info": {
   "codemirror_mode": "r",
   "file_extension": ".r",
   "mimetype": "text/x-r-source",
   "name": "R",
   "pygments_lexer": "r",
   "version": "3.4.3"
  }
 },
 "nbformat": 4,
 "nbformat_minor": 2
}
